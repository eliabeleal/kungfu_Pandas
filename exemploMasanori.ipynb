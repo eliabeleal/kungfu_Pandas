{
 "cells": [
  {
   "cell_type": "code",
   "execution_count": null,
   "metadata": {},
   "outputs": [],
   "source": [
    "import pandas as pd\n",
    "import seaborn as sb\n",
    "low_memory=False\n",
    "\n",
    "%matplotlib inline\n",
    "\n",
    "pd.options.display.max_columns = 80\n",
    "pd.options.display.max_rows = 90"
   ]
  },
  {
   "cell_type": "code",
   "execution_count": null,
   "metadata": {},
   "outputs": [],
   "source": [
    "filename = 'fila-publica-2017-11-30.csv'\n",
    "df = pd.read_csv(filename)\n",
    "\n",
    "df.shape"
   ]
  },
  {
   "cell_type": "markdown",
   "metadata": {},
   "source": [
    "shape: Return a tuple representing the dimensionality of the DataFrame."
   ]
  },
  {
   "cell_type": "code",
   "execution_count": null,
   "metadata": {},
   "outputs": [],
   "source": [
    "df.describe()"
   ]
  },
  {
   "cell_type": "code",
   "execution_count": null,
   "metadata": {},
   "outputs": [],
   "source": [
    "df.info()"
   ]
  },
  {
   "cell_type": "code",
   "execution_count": null,
   "metadata": {},
   "outputs": [],
   "source": [
    "df.rename(columns={'MUNICÍPIO DE RESIDÊNCIA': 'MUNICÍPIODERESIDÊNCIA',\n",
    "                'CENTRAL DE REGULAÇÃO/RESPONSÁVEL': 'CENTRALDEREGULAÇÃO/RESPONSÁVEL',\n",
    "                'TEMPO MÉDIO DE ESPERA(DIAS)': 'TEMPOMÉDIODEESPERA(DIAS)',\n",
    "                'DATA DA SOLICITAÇÃO': 'DATADASOLICITAÇÃO',\n",
    "                'DESCRIÇÃO DO PROCEDIMENTO': 'DESCRIÇÃODOPROCEDIMENTO',\n",
    "                'CNES DA CENTRAL EXECUTANTE': 'CNESDACENTRALEXECUTANTE',\n",
    "                'CNES DA UNIDADE SOLICITANTE': 'CNESDAUNIDADESOLICITANTE'\n",
    "                }, inplace=True)"
   ]
  },
  {
   "cell_type": "code",
   "execution_count": null,
   "metadata": {},
   "outputs": [],
   "source": [
    "df.sample(10)"
   ]
  },
  {
   "cell_type": "code",
   "execution_count": null,
   "metadata": {},
   "outputs": [],
   "source": [
    "df.groupby('SERVIÇO').size().sort_values().plot(kind='barh')"
   ]
  },
  {
   "cell_type": "code",
   "execution_count": null,
   "metadata": {},
   "outputs": [],
   "source": [
    "df.groupby('MUNICÍPIODERESIDÊNCIA').size().sort_values().tail(20).plot(kind='barh', figsize=(10,10))"
   ]
  },
  {
   "cell_type": "code",
   "execution_count": null,
   "metadata": {},
   "outputs": [],
   "source": [
    "df.query('SERVIÇO == \"Exame\"')['MUNICÍPIODERESIDÊNCIA'].value_counts().head().plot(kind='barh')"
   ]
  },
  {
   "cell_type": "code",
   "execution_count": null,
   "metadata": {},
   "outputs": [],
   "source": [
    "df.query('SERVIÇO == \"Exame\"')['MUNICÍPIODERESIDÊNCIA'].value_counts().head()"
   ]
  },
  {
   "cell_type": "code",
   "execution_count": null,
   "metadata": {},
   "outputs": [],
   "source": [
    "df.query('SERVIÇO == \"Exame\" and MUNICÍPIODERESIDÊNCIA == \"PALHOCA\"').DOCUMENTO.value_counts().describe()"
   ]
  },
  {
   "cell_type": "markdown",
   "metadata": {},
   "source": [
    "Fazendo uma comsulta para a coluna SERVIÇO com valor EXAME e para o MUNICÍPIODERESIDÊNCIA com a cidade de PALHOCA. Depois contando quantos DOCUMENTOS existem. Conclusão: existem pessoas que fizeram várias vezes solicitação de EXAME"
   ]
  },
  {
   "cell_type": "code",
   "execution_count": null,
   "metadata": {},
   "outputs": [],
   "source": [
    "df.query('SERVIÇO == \"Exame\" and MUNICÍPIODERESIDÊNCIA == \"PALHOCA\"').DOCUMENTO.value_counts().head()"
   ]
  },
  {
   "cell_type": "markdown",
   "metadata": {},
   "source": [
    "Existe uma pessoa que solicitou 90 vezes EXAMES"
   ]
  },
  {
   "cell_type": "code",
   "execution_count": null,
   "metadata": {},
   "outputs": [],
   "source": [
    "df.query('DOCUMENTO == 704207709501384')[['DESCRIÇÃODOPROCEDIMENTO','DATADASOLICITAÇÃO', 'CENTRALDEREGULAÇÃO/RESPONSÁVEL', 'POSIÇÃO', 'CNESDACENTRALEXECUTANTE', 'CNESDAUNIDADESOLICITANTE']].sort_values(by='DESCRIÇÃODOPROCEDIMENTO').head(10)"
   ]
  },
  {
   "cell_type": "markdown",
   "metadata": {},
   "source": [
    "Para um documento específico, estamos exibindo algumas colunas e ordenando pela DESCRIÇÃO. Conclusão: No mesmo momento (timestamp) houveram solicitações duplicadas e todas são da central de regulação CENTRO DE SAUDE VILA NOVA"
   ]
  },
  {
   "cell_type": "code",
   "execution_count": null,
   "metadata": {},
   "outputs": [],
   "source": [
    "def deduplicate_stats(query=None):\n",
    "    if query:\n",
    "        df_tmp = df.query(query)\n",
    "    else:\n",
    "        df_tmp = df\n",
    "    total_rows = len(df_tmp)\n",
    "    unique_rows = len(df_tmp.groupby(['DOCUMENTO', 'DESCRIÇÃODOPROCEDIMENTO']))\n",
    "    unique_rows_same_date = len(df_tmp.groupby(['DOCUMENTO', 'DESCRIÇÃODOPROCEDIMENTO', 'DATADASOLICITAÇÃO']))\n",
    "    reducao_fila = (total_rows - unique_rows) / total_rows\n",
    "    print('           registros na fila:', total_rows)\n",
    "    print('    registros únicos na fila:', unique_rows)\n",
    "    print('          duplicados (total):', total_rows - unique_rows)\n",
    "    print('duplicados (mesmo timestamp):', total_rows - unique_rows_same_date)\n",
    "    print('    redução com deduplicação:', int(100*reducao_fila), '%')\n"
   ]
  },
  {
   "cell_type": "markdown",
   "metadata": {},
   "source": [
    "Essa função vai analisar as duplicidades de uma consulta no DataFrame, a partir de uma QUERY"
   ]
  },
  {
   "cell_type": "code",
   "execution_count": null,
   "metadata": {},
   "outputs": [],
   "source": [
    "deduplicate_stats('MUNICÍPIODERESIDÊNCIA == \"PALHOCA\"')"
   ]
  },
  {
   "cell_type": "code",
   "execution_count": null,
   "metadata": {},
   "outputs": [],
   "source": [
    "deduplicate_stats()"
   ]
  },
  {
   "cell_type": "code",
   "execution_count": null,
   "metadata": {},
   "outputs": [],
   "source": [
    "deduplicate_stats('MUNICÍPIODERESIDÊNCIA == \"FLORIANOPOLIS\"')"
   ]
  },
  {
   "cell_type": "code",
   "execution_count": null,
   "metadata": {},
   "outputs": [],
   "source": [
    "deduplicate_stats('MUNICÍPIODERESIDÊNCIA == \"JOINVILLE\"')"
   ]
  },
  {
   "cell_type": "code",
   "execution_count": null,
   "metadata": {},
   "outputs": [],
   "source": [
    "df['DESCRIÇÃODOPROCEDIMENTO'].value_counts().to_frame().head(10)"
   ]
  },
  {
   "cell_type": "markdown",
   "metadata": {},
   "source": [
    "to_frame(): Convert Series to DataFrame"
   ]
  },
  {
   "cell_type": "code",
   "execution_count": null,
   "metadata": {},
   "outputs": [],
   "source": [
    "df.query('DESCRIÇÃODOPROCEDIMENTO == \"CONSULTA EM OFTALMOLOGIA - GERAL\"')['MUNICÍPIODERESIDÊNCIA'].value_counts().to_frame().head(10)"
   ]
  },
  {
   "cell_type": "markdown",
   "metadata": {},
   "source": [
    "Pacientes de Canelinha, ao solicitar uma consulta em oftalmologia, são direcionadas a 4 centrais executantes diferentes, que possuem tempo de espera entre 34 e 417 dias. Sugestão: rotear as pessoas para centrais com menos pacientes."
   ]
  },
  {
   "cell_type": "code",
   "execution_count": null,
   "metadata": {},
   "outputs": [],
   "source": [
    "df.query('DESCRIÇÃODOPROCEDIMENTO == \"CONSULTA EM OFTALMOLOGIA - GERAL\"').groupby(['CÓDIGO SIGTAP DO PROCEDIMENTO', 'MUNICÍPIODERESIDÊNCIA', 'CNESDACENTRALEXECUTANTE', 'TEMPOMÉDIODEESPERA(DIAS)', 'CLASSIFICAÇÃO']).count()[['POSIÇÃO']].query('MUNICÍPIODERESIDÊNCIA == \"CANELINHA\"')"
   ]
  }
 ],
 "metadata": {
  "kernelspec": {
   "display_name": "Python 3",
   "language": "python",
   "name": "python3"
  },
  "language_info": {
   "codemirror_mode": {
    "name": "ipython",
    "version": 3
   },
   "file_extension": ".py",
   "mimetype": "text/x-python",
   "name": "python",
   "nbconvert_exporter": "python",
   "pygments_lexer": "ipython3",
   "version": "3.7.0"
  }
 },
 "nbformat": 4,
 "nbformat_minor": 2
}
