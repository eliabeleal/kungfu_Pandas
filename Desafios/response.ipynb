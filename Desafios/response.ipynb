{
 "cells": [
  {
   "cell_type": "markdown",
   "metadata": {},
   "source": [
    "# DESAFIOS"
   ]
  },
  {
   "cell_type": "code",
   "execution_count": null,
   "metadata": {},
   "outputs": [],
   "source": [
    "import pandas as pd\n",
    "import numpy as np\n",
    "import matplotlib as plt\n",
    "df = pd.read_csv(\"Dados/dados.csv\")"
   ]
  },
  {
   "cell_type": "markdown",
   "metadata": {},
   "source": [
    "Utilizando o arquivo **dados.csv**, fazer um gráfico de barras que realize a contagem do número de imóveis em cada bairro"
   ]
  },
  {
   "cell_type": "code",
   "execution_count": null,
   "metadata": {},
   "outputs": [],
   "source": [
    "df['bairro'].value_counts().plot.bar()"
   ]
  },
  {
   "cell_type": "markdown",
   "metadata": {},
   "source": [
    "Utilizando o arquivo **dados.csv**, fazer o cálculo do preço médio dos imóveis, separando-os por quarto"
   ]
  },
  {
   "cell_type": "code",
   "execution_count": null,
   "metadata": {},
   "outputs": [],
   "source": [
    "df.groupby(\"quartos\").mean()['preco']"
   ]
  },
  {
   "cell_type": "markdown",
   "metadata": {},
   "source": [
    "Utilizando o arquivo **dados.csv**, realizar um gráfico de pizza onde mostre a proporção dos imóveis com mais de 80m² de área."
   ]
  },
  {
   "cell_type": "code",
   "execution_count": null,
   "metadata": {},
   "outputs": [],
   "source": [
    "df[df['area'] > 80]['bairro'].value_counts(normalize=True).plot.pie()"
   ]
  },
  {
   "cell_type": "markdown",
   "metadata": {},
   "source": [
    "Utilizando o arquivo **pokemon.csv**, realizar um gráfico de pizza que mostre a proporção percentual entre os pokémons lendários e não lendários"
   ]
  },
  {
   "cell_type": "code",
   "execution_count": null,
   "metadata": {},
   "outputs": [],
   "source": [
    "Poke = All.loc[(All['Legendary']==False)]\n",
    "PokeL = All.loc[(All['Legendary']==True)]\n",
    "#Pie chart of legendary split\n",
    "LSplit = [Poke['Name'].count(),PokeL['Name'].count()]\n",
    "LegendPie = plt.pie(LSplit,labels= ['Not Legendary', 'Legendary'], autopct ='%1.1f%%', shadow = True, startangle = 90,explode=(0, 0.1))\n",
    "plt.title('Legendary Split',fontsize = 12)\n",
    "fig = plt.gcf()\n",
    "fig.set_size_inches(11.7,8.27)\n",
    "plt.savefig(\"LegendPie.png\")"
   ]
  },
  {
   "cell_type": "markdown",
   "metadata": {},
   "source": [
    "Utilizando o arquivo **pokemon.csv**, criar uma função onde mostre o pokémon não lendário mais forte em cada stat para cada geração"
   ]
  },
  {
   "cell_type": "code",
   "execution_count": null,
   "metadata": {},
   "outputs": [],
   "source": [
    "Gen1 = Poke.loc[Poke['Generation'] == 1]\n",
    "Gen2 = Poke.loc[Poke['Generation'] == 2]\n",
    "Gen3 = Poke.loc[Poke['Generation'] == 3]\n",
    "Gen4 = Poke.loc[Poke['Generation'] == 4]\n",
    "Gen5 = Poke.loc[Poke['Generation'] == 5]\n",
    "Gen6 = Poke.loc[Poke['Generation'] == 6]\n",
    "Gen7 = Poke.loc[Poke['Generation'] == 7]\n",
    "\n",
    "def maxStat(Poke, column):\n",
    "    statement = ''\n",
    "    for col in column:\n",
    "        stat = Poke[col].max()\n",
    "        name = Poke[Poke[col]==Poke[col].max()]['Name'].values[0] #Find the names linked with the max stat\n",
    "        gen =  Poke[Poke[col]==Poke[col].max()]['Generation'].values[0] #Find the Gen linked with the max stat\n",
    "        statement += name+' of Generation '+str(gen)+' has the best '+col+' stat of '+str(stat)+'.\\n'\n",
    "    return statement\n",
    "\n",
    "print(maxStat(Poke,stats))"
   ]
  },
  {
   "cell_type": "markdown",
   "metadata": {},
   "source": [
    "Utilizando o arquivo **pokemon.csv**, criar uma função que receba como parâmetros a geração e o stat e exiba os 10 melhores pokemons."
   ]
  },
  {
   "cell_type": "code",
   "execution_count": null,
   "metadata": {},
   "outputs": [],
   "source": [
    "def Top10(Gen1,Bstat):\n",
    "        subGen = Gen1[['Name','Type1', 'Type2','Total' ,'HP', 'Attack','Defense','Sp.Atk','Sp.Def','Speed']]\n",
    "        Strong = subGen.sort_values([Bstat], ascending = False)\n",
    "        print(Strong.head(10))\n",
    "        return\n",
    "\n",
    "Top10(Gen1,'Attack')"
   ]
  }
 ],
 "metadata": {
  "kernelspec": {
   "display_name": "Python 3",
   "language": "python",
   "name": "python3"
  },
  "language_info": {
   "codemirror_mode": {
    "name": "ipython",
    "version": 3
   },
   "file_extension": ".py",
   "mimetype": "text/x-python",
   "name": "python",
   "nbconvert_exporter": "python",
   "pygments_lexer": "ipython3",
   "version": "3.7.0"
  }
 },
 "nbformat": 4,
 "nbformat_minor": 2
}
